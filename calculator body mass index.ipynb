{
 "cells": [
  {
   "cell_type": "code",
   "execution_count": 36,
   "id": "54708abb",
   "metadata": {},
   "outputs": [
    {
     "name": "stdout",
     "output_type": "stream",
     "text": [
      "Enter your name:ibrahim selçuk\n",
      "Enter your height in meters:1.77\n",
      "Enter your weight in kilograms:95\n",
      "your BMI is: 30.323342589932647\n",
      "ibrahim selçuk,your BMI is well above average: you are obese.\n"
     ]
    }
   ],
   "source": [
    "name = input (\"Enter your name:\")\n",
    "while True:\n",
    "    \n",
    "    try:\n",
    "        height = float(input(\"Enter your height in meters:\"))\n",
    "        if height % 1 !=0: ### bu kodu yazmazsak eğer  sadece ondalık sayıları depğil bütün sayıları inputun içine yazabiliriz. o yüzden bu kod şart.\n",
    "            break\n",
    "        else:\n",
    "            print(\"Please enter a decimal number.\") ### eğer doğal sayı veya başka bir veri tipi girilirse bu yazı çıksın diye bu kodu yazdık.\n",
    "            \n",
    "    except ValueError:\n",
    "        print (\"Please enter a valid number.\")\n",
    "            \n",
    "        \n",
    "        \n",
    "    except ValueError as e:\n",
    "        print (f\"Error:{e}\")\n",
    "        \n",
    "\n",
    "weight = int(input(\"Enter your weight in kilograms:\")) ### burayı int sayı tipinde istediğimiz için buraya dokunmadık.\n",
    "BMI = (weight)/(height * height )\n",
    "print(\"your BMI is:\",BMI)\n",
    "\n",
    "if BMI>0:\n",
    "    if(BMI<18.5):\n",
    "         print (f\" {name},your BMI is below average.\") ### kod çalışıyor.\n",
    "    elif(18.5<=BMI<=24.9):\n",
    "         print (f\"{name},your BMI is ideal.\")\n",
    "    elif(24.9<=BMI<=29.9):\n",
    "         print (f\"{name},your BMI is above average.\")\n",
    "    elif(29.9<=BMI<=39.9):\n",
    "         print (f\"{name},your BMI is well above average: you are obese.\")\n",
    "    else:\n",
    "         print (f\"{name},your BMI is much above average: you are morbid obese.\") ## bunu else yerine de yazabiliriz.\n",
    "else:\n",
    "    print(\"Enter valid inputs\")"
   ]
  },
  {
   "cell_type": "code",
   "execution_count": 34,
   "id": "33eda195",
   "metadata": {},
   "outputs": [
    {
     "name": "stdout",
     "output_type": "stream",
     "text": [
      "sevgili ibrahim selçuk,kitle boy indexiniz ideal kilonun çok üstündedir.\n"
     ]
    }
   ],
   "source": [
    "if BMI>0:\n",
    "    if(BMI<18.5):\n",
    "         print (f\"sevgili {name},kitle boy indexiniz ortalamanın altındadır.\") ### kod çalışıyor.\n",
    "    elif(18.5<=BMI<=24.9):\n",
    "         print (f\"sevgili {name},kitle boy indexiniz idealdir.\")\n",
    "    elif(24.9<=BMI<=29.9):\n",
    "         print (f\"sevgili {name},kitle boy indexiniz ideal kilonun üstündedir.\")\n",
    "    elif(29.9<=BMI<=39.9):\n",
    "         print (f\"sevgili {name},kitle boy indexiniz ideal kilonun çok üstündedir.\")\n",
    "    else:\n",
    "         print (f\"sevgili {name},kitle boy indexiniz ideal kilonun çok çok üstündedir.\") ## bunu else yerine de yazabiliriz.\n",
    "else:\n",
    "    print(\"Enter valid inputs\")\n",
    "            \n",
    "            ### printlerin başlarına f koymak çok önemli , kodun yazımını daha basit hale getiriyor.\n",
    "            ###eğer f yazmasaydık kod böyle yazılacaktı:print (\"sevgili\" name +\",kitle boy indexiniz idealdir.\")"
   ]
  },
  {
   "cell_type": "code",
   "execution_count": null,
   "id": "fc61b562",
   "metadata": {},
   "outputs": [],
   "source": []
  },
  {
   "cell_type": "code",
   "execution_count": null,
   "id": "b267cd81",
   "metadata": {},
   "outputs": [],
   "source": [
    "18, 5 kg/m² ‘nin altındaki sonuçlar: İdeal kilonun altında\n",
    "18, 5 kg/m² ile 24, 9 kg/m² arasındaki sonuçlar: İdeal kiloda\n",
    "25 kg/m² ile 29, 9 kg/m² arasındaki sonuçlar: İdeal kilonun üstünde\n",
    "30 kg/m² ile 39, 9 kg/m² arasındaki sonuçlar: İdeal kilonun çok üstünde (obez)\n",
    "40 kg/m² üzerindeki sonuçlar: İdeal kilonun çok üstünde (morbid obez)"
   ]
  },
  {
   "cell_type": "code",
   "execution_count": null,
   "id": "ca4e6fc6",
   "metadata": {},
   "outputs": [],
   "source": []
  }
 ],
 "metadata": {
  "kernelspec": {
   "display_name": "Python 3 (ipykernel)",
   "language": "python",
   "name": "python3"
  },
  "language_info": {
   "codemirror_mode": {
    "name": "ipython",
    "version": 3
   },
   "file_extension": ".py",
   "mimetype": "text/x-python",
   "name": "python",
   "nbconvert_exporter": "python",
   "pygments_lexer": "ipython3",
   "version": "3.10.9"
  }
 },
 "nbformat": 4,
 "nbformat_minor": 5
}
